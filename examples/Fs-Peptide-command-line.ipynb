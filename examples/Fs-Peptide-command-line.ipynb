{
 "cells": [
  {
   "cell_type": "markdown",
   "metadata": {},
   "source": [
    "# Modeling dynamics of FS Peptide\n",
    "This example shows a typical, basic usage of the MSMBuilder command line to model dynamics of a protein system. "
   ]
  },
  {
   "cell_type": "code",
   "execution_count": null,
   "metadata": {
    "collapsed": true
   },
   "outputs": [],
   "source": [
    "# Work in a temporary directory\n",
    "import tempfile\n",
    "import os\n",
    "os.chdir(tempfile.mkdtemp())"
   ]
  },
  {
   "cell_type": "code",
   "execution_count": null,
   "metadata": {
    "collapsed": false
   },
   "outputs": [],
   "source": [
    "# Since this is running from an IPython notebook,\n",
    "# we prefix all our commands with \"!\"\n",
    "# When running on the command line, omit the leading \"!\"\n",
    "! msmb -h"
   ]
  },
  {
   "cell_type": "markdown",
   "metadata": {},
   "source": [
    "### Get example data"
   ]
  },
  {
   "cell_type": "code",
   "execution_count": null,
   "metadata": {
    "collapsed": false
   },
   "outputs": [],
   "source": [
    "! msmb FsPeptide --data_home ./\n",
    "! tree"
   ]
  },
  {
   "cell_type": "markdown",
   "metadata": {},
   "source": [
    "### Featurization\n",
    "The raw `(x, y, z)` coordinates from the simulation do not respect the translational and rotational symmetry of our problem. A `Featurizer` transforms cartesian coordinates into other representations. Here we use the `DihedralFeaturizer` to turn our data into phi and psi dihedral angles. Observe that the `264*3`-dimensional space is reduced to 84 dimensions."
   ]
  },
  {
   "cell_type": "code",
   "execution_count": null,
   "metadata": {
    "collapsed": false
   },
   "outputs": [],
   "source": [
    "# Remember '\\' is the line-continuation marker\n",
    "# You can enter this command on one line\n",
    "! msmb DihedralFeaturizer \\\n",
    "    --out featurizer.pkl  \\\n",
    "    --transformed diheds  \\\n",
    "    --top fs_peptide/fs-peptide.pdb \\\n",
    "    --trjs \"fs_peptide/*.xtc\""
   ]
  },
  {
   "cell_type": "markdown",
   "metadata": {},
   "source": [
    "### Intermediate kinetic model: tICA\n",
    "`tICA` is similar to principal component analysis (see \"tICA vs. PCA\" example). Note that the 84-dimensional space is reduced to 4 dimensions."
   ]
  },
  {
   "cell_type": "code",
   "execution_count": null,
   "metadata": {
    "collapsed": false
   },
   "outputs": [],
   "source": [
    "! msmb tICA -i diheds \\\n",
    "    --out tica_model.pkl \\\n",
    "    --transformed tica_trajs.h5 \\\n",
    "    --n_components 4 \\\n",
    "    --lag_time 20"
   ]
  },
  {
   "cell_type": "markdown",
   "metadata": {},
   "source": [
    "### tICA Heatmap\n",
    "We can histogram our data projecting along the two slowest degrees of freedom (as found by tICA). You have to do this in a python script."
   ]
  },
  {
   "cell_type": "code",
   "execution_count": null,
   "metadata": {
    "collapsed": false
   },
   "outputs": [],
   "source": [
    "from msmbuilder.dataset import dataset\n",
    "ds = dataset('tica_trajs.h5')\n",
    "\n",
    "%matplotlib inline\n",
    "from matplotlib import pyplot as plt\n",
    "import numpy as np\n",
    "txx = np.concatenate(ds)\n",
    "plt.hexbin(txx[:,0], txx[:,1], bins='log', mincnt=1, cmap='viridis')"
   ]
  },
  {
   "cell_type": "markdown",
   "metadata": {},
   "source": [
    "### Clustering\n",
    "Conformations need to be clustered into states (sometimes written as microstates). We cluster based on the tICA projections to group conformations that interconvert rapidly. Note that we transform our trajectories from the 4-dimensional tICA space into a 1-dimensional cluster index."
   ]
  },
  {
   "cell_type": "code",
   "execution_count": null,
   "metadata": {
    "collapsed": false
   },
   "outputs": [],
   "source": [
    "! msmb MiniBatchKMeans -i tica_trajs.h5 \\\n",
    "    --transformed labeled_trajs.h5 \\\n",
    "    --out clusterer.pkl \\\n",
    "    --n_clusters 100"
   ]
  },
  {
   "cell_type": "markdown",
   "metadata": {},
   "source": [
    "### MSM\n",
    "We can construct an MSM from the labeled trajectories"
   ]
  },
  {
   "cell_type": "code",
   "execution_count": null,
   "metadata": {
    "collapsed": false
   },
   "outputs": [],
   "source": [
    "! msmb MarkovStateModel -i labeled_trajs.h5 \\\n",
    "    --out msm.pkl \\\n",
    "    --lag_time 20"
   ]
  },
  {
   "cell_type": "markdown",
   "metadata": {},
   "source": [
    "### Plots\n",
    "Subsequent plotting and analysis should be done from Python"
   ]
  },
  {
   "cell_type": "code",
   "execution_count": null,
   "metadata": {
    "collapsed": false
   },
   "outputs": [],
   "source": [
    "from msmbuilder.utils import load\n",
    "msm = load('msm.pkl')\n",
    "clusterer = load('clusterer.pkl')\n",
    "\n",
    "plt.hexbin(txx[:, 0], txx[:, 1], bins='log', mincnt=1, cmap=\"bone_r\")\n",
    "plt.scatter(clusterer.cluster_centers_[msm.state_labels_, 0],\n",
    "            clusterer.cluster_centers_[msm.state_labels_, 1],\n",
    "            s=1e4 * msm.populations_,       # size by population\n",
    "            c=msm.left_eigenvectors_[:, 1], # color by eigenvector\n",
    "            cmap=\"coolwarm\") \n",
    "plt.colorbar(label='First dynamical eigenvector')\n",
    "plt.xlabel('tIC 1')\n",
    "plt.ylabel('tIC 2')\n",
    "plt.tight_layout()"
   ]
  }
 ],
 "metadata": {
  "kernelspec": {
   "display_name": "Python 3",
   "language": "python",
   "name": "python3"
  },
  "language_info": {
   "codemirror_mode": {
    "name": "ipython",
    "version": 3
   },
   "file_extension": ".py",
   "mimetype": "text/x-python",
   "name": "python",
   "nbconvert_exporter": "python",
   "pygments_lexer": "ipython3",
   "version": "3.5.1"
  }
 },
 "nbformat": 4,
 "nbformat_minor": 0
}
